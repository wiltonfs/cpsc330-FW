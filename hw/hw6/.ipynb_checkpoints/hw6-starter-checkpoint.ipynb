{
 "cells": [
  {
   "cell_type": "markdown",
   "metadata": {},
   "source": [
    "# CPSC 330 - Applied Machine Learning \n",
    "\n",
    "## Homework 6: Putting it all together \n",
    "### Associated lectures: All material till lecture 13 \n",
    "\n",
    "**Due date: Wednesday, March 15, 2023 at 11:59pm**"
   ]
  },
  {
   "cell_type": "markdown",
   "metadata": {},
   "source": [
    "## Table of contents\n",
    "\n",
    "- [Submission instructions](#si)\n",
    "- [Understanding the problem](#1)\n",
    "- [Data splitting](#2)\n",
    "- [EDA](#3)\n",
    "- (Optional) [Feature engineering](#4)\n",
    "- [Preprocessing and transformations](#5)\n",
    "- [Baseline model](#6)\n",
    "- [Linear models](#7)\n",
    "- [Different classifiers](#8)\n",
    "- (Optional) [Feature selection](#9)\n",
    "- [Hyperparameter optimization](#10)\n",
    "- [Interpretation and feature importances](#11)\n",
    "- [Results on the test set](#12)\n",
    "- (Optional) [Explaining predictions](#13)\n",
    "- [Summary of the results](#14)"
   ]
  },
  {
   "cell_type": "markdown",
   "metadata": {},
   "source": [
    "## Imports "
   ]
  },
  {
   "cell_type": "code",
   "execution_count": 1,
   "metadata": {},
   "outputs": [],
   "source": [
    "import os\n",
    "\n",
    "%matplotlib inline\n",
    "import sys\n",
    "\n",
    "import matplotlib.pyplot as plt\n",
    "import numpy as np\n",
    "import pandas as pd\n",
    "import seaborn as sns\n",
    "#import xgboost as xgb\n",
    "from sklearn.compose import ColumnTransformer, make_column_transformer\n",
    "from sklearn.dummy import DummyClassifier\n",
    "from sklearn.ensemble import RandomForestClassifier\n",
    "from sklearn.impute import SimpleImputer\n",
    "from sklearn.linear_model import LogisticRegression\n",
    "from sklearn.svm import SVC\n",
    "from sklearn.tree import DecisionTreeClassifier\n",
    "from sklearn.neighbors import KNeighborsClassifier\n",
    "from sklearn.metrics import (\n",
    "    classification_report,\n",
    "    #confusion_matrix,\n",
    "    f1_score,\n",
    "    make_scorer,\n",
    "    #plot_confusion_matrix,\n",
    ")\n",
    "from sklearn.model_selection import (\n",
    "    GridSearchCV,\n",
    "    RandomizedSearchCV,\n",
    "    cross_val_score,\n",
    "    cross_validate,\n",
    "    train_test_split,\n",
    ")\n",
    "from sklearn.pipeline import Pipeline, make_pipeline\n",
    "from sklearn.preprocessing import OneHotEncoder, OrdinalEncoder, StandardScaler\n",
    "from sklearn.svm import SVC"
   ]
  },
  {
   "cell_type": "markdown",
   "metadata": {},
   "source": [
    "<br><br>"
   ]
  },
  {
   "cell_type": "markdown",
   "metadata": {},
   "source": [
    "## Instructions \n",
    "<hr>\n",
    "rubric={points:2}\n",
    "\n",
    "Follow the [homework submission instructions](https://github.com/UBC-CS/cpsc330-2022W2/blob/main/docs/homework_instructions.md). \n",
    "\n",
    "**You may work on this homework in a group and submit your assignment as a group.** Below are some instructions on working as a group.  \n",
    "- The maximum group size is 3. \n",
    "- Use group work as an opportunity to collaborate and learn new things from each other. \n",
    "- Be respectful to each other and make sure you understand all the concepts in the assignment well. \n",
    "- It's your responsibility to make sure that the assignment is submitted by one of the group members before the deadline. \n",
    "- You can find the instructions on how to do group submission on Gradescope [here](https://help.gradescope.com/article/m5qz2xsnjy-student-add-group-members)."
   ]
  },
  {
   "cell_type": "markdown",
   "metadata": {},
   "source": [
    "<br><br>"
   ]
  },
  {
   "cell_type": "markdown",
   "metadata": {},
   "source": [
    "## Introduction <a name=\"in\"></a>\n",
    "<hr>\n",
    "\n",
    "At this point we are at the end of supervised machine learning part of the course. So in this homework, you will be working on an open-ended mini-project, where you will put all the different things you have learned so far together to solve an interesting problem.\n",
    "\n",
    "A few notes and tips when you work on this mini-project: \n",
    "\n",
    "#### Tips\n",
    "\n",
    "1. This mini-project is open-ended, and while working on it, there might be some situations where you'll have to use your own judgment and make your own decisions (as you would be doing when you work as a data scientist). **Make sure you explain your decisions whenever necessary.** \n",
    "2. **Do not include everything you ever tried in your submission** -- it's fine just to have your final code. That said, your code should be reproducible and well-documented. For example, if you chose your hyperparameters based on some hyperparameter optimization experiment, you should leave in the code for that experiment so that someone else could re-run it and obtain the same hyperparameters, rather than mysteriously just setting the hyperparameters to some (carefully chosen) values in your code. \n",
    "3. If you realize that you are repeating a lot of code try to organize it in functions. Clear presentation of your code, experiments, and results is the key to be successful in this lab. You may use code from lecture notes or previous lab solutions with appropriate attributions. \n",
    "4. If you are having trouble running models on your laptop because of the size of the dataset, you can create your train/test split in such a way that you have less data in the train split. If you end up doing this, please write a note to the grader in the submission explaining why you are doing it.  \n",
    "\n",
    "#### Assessment\n",
    "\n",
    "We plan to grade fairly and leniently. We don't have some secret target score that you need to achieve to get a good grade. **You'll be assessed on demonstration of mastery of course topics, clear presentation, and the quality of your analysis and results.** For example, if you just have a bunch of code and no text or figures, that's not good. If you do a bunch of sane things and get a lower accuracy than your friend, don't sweat it.\n",
    "\n",
    "#### A final note\n",
    "\n",
    "Finally, this style of this \"project\" question is different from other assignments. It'll be up to you to decide when you're \"done\" -- in fact, this is one of the hardest parts of real projects. But please don't spend WAY too much time on this... perhaps \"a few hours\" (2-8 hours???) is a good guideline for a typical submission. Of course if you're having fun you're welcome to spend as much time as you want! But, if so, try not to do it out of perfectionism or getting the best possible grade. Do it because you're learning and enjoying it. Students from the past cohorts have found such kind of labs useful and fun and I hope you enjoy it as well. "
   ]
  },
  {
   "cell_type": "markdown",
   "metadata": {},
   "source": [
    "<br><br>"
   ]
  },
  {
   "cell_type": "markdown",
   "metadata": {},
   "source": [
    "## 1. Understanding the problem <a name=\"1\"></a>\n",
    "<hr>\n",
    "rubric={points:4}\n",
    "\n",
    "In this mini project, you will be working on a classification problem of predicting whether a customer will cancel the reservation they have made at a hotel. \n",
    "For this problem, you will use [Reservation Cancellation Prediction Dataset](https://www.kaggle.com/datasets/gauravduttakiit/reservation-cancellation-prediction?select=train__dataset.csv). In this data set, there are about 18.000 examples and 18 features (including the target), and the goal is to estimate whether a person will cancel their booking; this column is labeled \"booking_status\" in the data (1 = canceled). \n",
    "\n",
    "**Your tasks:**\n",
    "\n",
    "1. Spend some time understanding the problem and what each feature means. You can find this information in the documentation on [the dataset page on Kaggle](https://www.kaggle.com/datasets/gauravduttakiit/reservation-cancellation-prediction?select=train__dataset.csv). Write a few sentences on your initial thoughts on the problem and the dataset. \n",
    "2. Download the dataset and read it as a pandas dataframe. "
   ]
  },
  {
   "cell_type": "markdown",
   "metadata": {},
   "source": [
    "Some initial thoughts I have on the problem is that I think the number of previous cancellations will be the most useful feature, followed by previous un-canceled reservations, followed by repeated_guest or room price. My thought is that someone who cancels frequently will cancel again, and someone who rarely cancels will keep the reservation. Additionally, I think that a guest who has been there before is more likely to not have made the reservation on a whim and will show up. Finally, I think expensive rooms will get canceled more often as there is more savings, a financial psychological incentive, for canceling."
   ]
  },
  {
   "cell_type": "code",
   "execution_count": 2,
   "metadata": {},
   "outputs": [],
   "source": [
    "# read in the CSV files as a dataframes\n",
    "data = pd.read_csv(\"train__dataset.csv\")"
   ]
  },
  {
   "cell_type": "markdown",
   "metadata": {},
   "source": [
    "<br><br>"
   ]
  },
  {
   "cell_type": "markdown",
   "metadata": {},
   "source": [
    "## 2. Data splitting <a name=\"2\"></a>\n",
    "<hr>\n",
    "rubric={points:2}\n",
    "\n",
    "**Your tasks:**\n",
    "\n",
    "1. Split the data into train and test portions. "
   ]
  },
  {
   "cell_type": "code",
   "execution_count": 3,
   "metadata": {},
   "outputs": [],
   "source": [
    "train, test = train_test_split(data, test_size=0.2, random_state=242)"
   ]
  },
  {
   "cell_type": "markdown",
   "metadata": {},
   "source": [
    "<br><br>"
   ]
  },
  {
   "cell_type": "markdown",
   "metadata": {},
   "source": [
    "## 3. EDA <a name=\"3\"></a>\n",
    "<hr>\n",
    "rubric={points:10}\n",
    "\n",
    "**Your tasks:**\n",
    "\n",
    "1. Perform exploratory data analysis on the train set.\n",
    "2. Include at least two summary statistics and two visualizations that you find useful, and accompany each one with a sentence explaining it.\n",
    "3. Summarize your initial observations about the data. \n",
    "4. Pick appropriate metric/metrics for assessment. "
   ]
  },
  {
   "cell_type": "code",
   "execution_count": 4,
   "metadata": {},
   "outputs": [
    {
     "data": {
      "image/png": "[encoded data removed]",
      "text/plain": [
       "<Figure size 640x480 with 1 Axes>"
      ]
     },
     "metadata": {},
     "output_type": "display_data"
    },
    {
     "data": {
      "image/png": "[encoded data removed]",
      "text/plain": [
       "<Figure size 640x480 with 1 Axes>"
      ]
     },
     "metadata": {},
     "output_type": "display_data"
    },
    {
     "data": {
      "image/png": "[encoded data removed]",
      "text/plain": [
       "<Figure size 640x480 with 1 Axes>"
      ]
     },
     "metadata": {},
     "output_type": "display_data"
    },
    {
     "data": {
      "image/png": "[encoded data removed]",
      "text/plain": [
       "<Figure size 640x480 with 1 Axes>"
      ]
     },
     "metadata": {},
     "output_type": "display_data"
    },
    {
     "data": {
      "text/html": [
       "<div>\n",
       "<style scoped>\n",
       "    .dataframe tbody tr th:only-of-type {\n",
       "        vertical-align: middle;\n",
       "    }\n",
       "\n",
       "    .dataframe tbody tr th {\n",
       "        vertical-align: top;\n",
       "    }\n",
       "\n",
       "    .dataframe thead th {\n",
       "        text-align: right;\n",
       "    }\n",
       "</style>\n",
       "<table border=\"1\" class=\"dataframe\">\n",
       "  <thead>\n",
       "    <tr style=\"text-align: right;\">\n",
       "      <th></th>\n",
       "      <th>no_of_adults</th>\n",
       "      <th>no_of_children</th>\n",
       "      <th>no_of_weekend_nights</th>\n",
       "      <th>no_of_week_nights</th>\n",
       "      <th>type_of_meal_plan</th>\n",
       "      <th>required_car_parking_space</th>\n",
       "      <th>room_type_reserved</th>\n",
       "      <th>lead_time</th>\n",
       "      <th>arrival_year</th>\n",
       "      <th>arrival_month</th>\n",
       "      <th>arrival_date</th>\n",
       "      <th>market_segment_type</th>\n",
       "      <th>repeated_guest</th>\n",
       "      <th>no_of_previous_cancellations</th>\n",
       "      <th>no_of_previous_bookings_not_canceled</th>\n",
       "      <th>avg_price_per_room</th>\n",
       "      <th>no_of_special_requests</th>\n",
       "      <th>booking_status</th>\n",
       "    </tr>\n",
       "  </thead>\n",
       "  <tbody>\n",
       "    <tr>\n",
       "      <th>count</th>\n",
       "      <td>14509.000000</td>\n",
       "      <td>14509.000000</td>\n",
       "      <td>14509.000000</td>\n",
       "      <td>14509.000000</td>\n",
       "      <td>14509.000000</td>\n",
       "      <td>14509.000000</td>\n",
       "      <td>14509.000000</td>\n",
       "      <td>14509.000000</td>\n",
       "      <td>14509.000000</td>\n",
       "      <td>14509.000000</td>\n",
       "      <td>14509.000000</td>\n",
       "      <td>14509.000000</td>\n",
       "      <td>14509.000000</td>\n",
       "      <td>14509.000000</td>\n",
       "      <td>14509.000000</td>\n",
       "      <td>14509.000000</td>\n",
       "      <td>14509.000000</td>\n",
       "      <td>14509.000000</td>\n",
       "    </tr>\n",
       "    <tr>\n",
       "      <th>mean</th>\n",
       "      <td>1.850851</td>\n",
       "      <td>0.109449</td>\n",
       "      <td>0.810807</td>\n",
       "      <td>2.210559</td>\n",
       "      <td>0.316011</td>\n",
       "      <td>0.032532</td>\n",
       "      <td>0.340134</td>\n",
       "      <td>85.308291</td>\n",
       "      <td>2017.819629</td>\n",
       "      <td>7.413812</td>\n",
       "      <td>15.652836</td>\n",
       "      <td>0.805500</td>\n",
       "      <td>0.024536</td>\n",
       "      <td>0.021504</td>\n",
       "      <td>0.151423</td>\n",
       "      <td>103.678081</td>\n",
       "      <td>0.621821</td>\n",
       "      <td>0.327038</td>\n",
       "    </tr>\n",
       "    <tr>\n",
       "      <th>std</th>\n",
       "      <td>0.515893</td>\n",
       "      <td>0.413799</td>\n",
       "      <td>0.873028</td>\n",
       "      <td>1.431309</td>\n",
       "      <td>0.627910</td>\n",
       "      <td>0.177413</td>\n",
       "      <td>0.776713</td>\n",
       "      <td>86.334770</td>\n",
       "      <td>0.384509</td>\n",
       "      <td>3.072301</td>\n",
       "      <td>8.793335</td>\n",
       "      <td>0.644863</td>\n",
       "      <td>0.154713</td>\n",
       "      <td>0.359909</td>\n",
       "      <td>1.703164</td>\n",
       "      <td>35.567967</td>\n",
       "      <td>0.790239</td>\n",
       "      <td>0.469148</td>\n",
       "    </tr>\n",
       "    <tr>\n",
       "      <th>min</th>\n",
       "      <td>0.000000</td>\n",
       "      <td>0.000000</td>\n",
       "      <td>0.000000</td>\n",
       "      <td>0.000000</td>\n",
       "      <td>0.000000</td>\n",
       "      <td>0.000000</td>\n",
       "      <td>0.000000</td>\n",
       "      <td>0.000000</td>\n",
       "      <td>2017.000000</td>\n",
       "      <td>1.000000</td>\n",
       "      <td>1.000000</td>\n",
       "      <td>0.000000</td>\n",
       "      <td>0.000000</td>\n",
       "      <td>0.000000</td>\n",
       "      <td>0.000000</td>\n",
       "      <td>0.000000</td>\n",
       "      <td>0.000000</td>\n",
       "      <td>0.000000</td>\n",
       "    </tr>\n",
       "    <tr>\n",
       "      <th>25%</th>\n",
       "      <td>2.000000</td>\n",
       "      <td>0.000000</td>\n",
       "      <td>0.000000</td>\n",
       "      <td>1.000000</td>\n",
       "      <td>0.000000</td>\n",
       "      <td>0.000000</td>\n",
       "      <td>0.000000</td>\n",
       "      <td>16.000000</td>\n",
       "      <td>2018.000000</td>\n",
       "      <td>5.000000</td>\n",
       "      <td>8.000000</td>\n",
       "      <td>0.000000</td>\n",
       "      <td>0.000000</td>\n",
       "      <td>0.000000</td>\n",
       "      <td>0.000000</td>\n",
       "      <td>80.330000</td>\n",
       "      <td>0.000000</td>\n",
       "      <td>0.000000</td>\n",
       "    </tr>\n",
       "    <tr>\n",
       "      <th>50%</th>\n",
       "      <td>2.000000</td>\n",
       "      <td>0.000000</td>\n",
       "      <td>1.000000</td>\n",
       "      <td>2.000000</td>\n",
       "      <td>0.000000</td>\n",
       "      <td>0.000000</td>\n",
       "      <td>0.000000</td>\n",
       "      <td>58.000000</td>\n",
       "      <td>2018.000000</td>\n",
       "      <td>8.000000</td>\n",
       "      <td>16.000000</td>\n",
       "      <td>1.000000</td>\n",
       "      <td>0.000000</td>\n",
       "      <td>0.000000</td>\n",
       "      <td>0.000000</td>\n",
       "      <td>99.730000</td>\n",
       "      <td>0.000000</td>\n",
       "      <td>0.000000</td>\n",
       "    </tr>\n",
       "    <tr>\n",
       "      <th>75%</th>\n",
       "      <td>2.000000</td>\n",
       "      <td>0.000000</td>\n",
       "      <td>2.000000</td>\n",
       "      <td>3.000000</td>\n",
       "      <td>0.000000</td>\n",
       "      <td>0.000000</td>\n",
       "      <td>0.000000</td>\n",
       "      <td>126.000000</td>\n",
       "      <td>2018.000000</td>\n",
       "      <td>10.000000</td>\n",
       "      <td>23.000000</td>\n",
       "      <td>1.000000</td>\n",
       "      <td>0.000000</td>\n",
       "      <td>0.000000</td>\n",
       "      <td>0.000000</td>\n",
       "      <td>121.000000</td>\n",
       "      <td>1.000000</td>\n",
       "      <td>1.000000</td>\n",
       "    </tr>\n",
       "    <tr>\n",
       "      <th>max</th>\n",
       "      <td>4.000000</td>\n",
       "      <td>9.000000</td>\n",
       "      <td>7.000000</td>\n",
       "      <td>17.000000</td>\n",
       "      <td>3.000000</td>\n",
       "      <td>1.000000</td>\n",
       "      <td>6.000000</td>\n",
       "      <td>443.000000</td>\n",
       "      <td>2018.000000</td>\n",
       "      <td>12.000000</td>\n",
       "      <td>31.000000</td>\n",
       "      <td>4.000000</td>\n",
       "      <td>1.000000</td>\n",
       "      <td>13.000000</td>\n",
       "      <td>58.000000</td>\n",
       "      <td>540.000000</td>\n",
       "      <td>5.000000</td>\n",
       "      <td>1.000000</td>\n",
       "    </tr>\n",
       "  </tbody>\n",
       "</table>\n",
       "</div>"
      ],
      "text/plain": [
       "       no_of_adults  no_of_children  no_of_weekend_nights  no_of_week_nights  \\\n",
       "count  14509.000000    14509.000000          14509.000000       14509.000000   \n",
       "mean       1.850851        0.109449              0.810807           2.210559   \n",
       "std        0.515893        0.413799              0.873028           1.431309   \n",
       "min        0.000000        0.000000              0.000000           0.000000   \n",
       "25%        2.000000        0.000000              0.000000           1.000000   \n",
       "50%        2.000000        0.000000              1.000000           2.000000   \n",
       "75%        2.000000        0.000000              2.000000           3.000000   \n",
       "max        4.000000        9.000000              7.000000          17.000000   \n",
       "\n",
       "       type_of_meal_plan  required_car_parking_space  room_type_reserved  \\\n",
       "count       14509.000000                14509.000000        14509.000000   \n",
       "mean            0.316011                    0.032532            0.340134   \n",
       "std             0.627910                    0.177413            0.776713   \n",
       "min             0.000000                    0.000000            0.000000   \n",
       "25%             0.000000                    0.000000            0.000000   \n",
       "50%             0.000000                    0.000000            0.000000   \n",
       "75%             0.000000                    0.000000            0.000000   \n",
       "max             3.000000                    1.000000            6.000000   \n",
       "\n",
       "          lead_time  arrival_year  arrival_month  arrival_date  \\\n",
       "count  14509.000000  14509.000000   14509.000000  14509.000000   \n",
       "mean      85.308291   2017.819629       7.413812     15.652836   \n",
       "std       86.334770      0.384509       3.072301      8.793335   \n",
       "min        0.000000   2017.000000       1.000000      1.000000   \n",
       "25%       16.000000   2018.000000       5.000000      8.000000   \n",
       "50%       58.000000   2018.000000       8.000000     16.000000   \n",
       "75%      126.000000   2018.000000      10.000000     23.000000   \n",
       "max      443.000000   2018.000000      12.000000     31.000000   \n",
       "\n",
       "       market_segment_type  repeated_guest  no_of_previous_cancellations  \\\n",
       "count         14509.000000    14509.000000                  14509.000000   \n",
       "mean              0.805500        0.024536                      0.021504   \n",
       "std               0.644863        0.154713                      0.359909   \n",
       "min               0.000000        0.000000                      0.000000   \n",
       "25%               0.000000        0.000000                      0.000000   \n",
       "50%               1.000000        0.000000                      0.000000   \n",
       "75%               1.000000        0.000000                      0.000000   \n",
       "max               4.000000        1.000000                     13.000000   \n",
       "\n",
       "       no_of_previous_bookings_not_canceled  avg_price_per_room  \\\n",
       "count                          14509.000000        14509.000000   \n",
       "mean                               0.151423          103.678081   \n",
       "std                                1.703164           35.567967   \n",
       "min                                0.000000            0.000000   \n",
       "25%                                0.000000           80.330000   \n",
       "50%                                0.000000           99.730000   \n",
       "75%                                0.000000          121.000000   \n",
       "max                               58.000000          540.000000   \n",
       "\n",
       "       no_of_special_requests  booking_status  \n",
       "count            14509.000000    14509.000000  \n",
       "mean                 0.621821        0.327038  \n",
       "std                  0.790239        0.469148  \n",
       "min                  0.000000        0.000000  \n",
       "25%                  0.000000        0.000000  \n",
       "50%                  0.000000        0.000000  \n",
       "75%                  1.000000        1.000000  \n",
       "max                  5.000000        1.000000  "
      ]
     },
     "execution_count": 4,
     "metadata": {},
     "output_type": "execute_result"
    }
   ],
   "source": [
    "#Similar to my code from HW 2\n",
    "\n",
    "#We are trying to predict if a customer will cancel, so positive will be a cancelation, which will be booking_status = 1\n",
    "negative_examples = train.query(\"booking_status == 0\")\n",
    "positive_examples = train.query(\"booking_status == 1\")\n",
    "\n",
    "features = [\"repeated_guest\", \"no_of_previous_cancellations\", \"no_of_previous_bookings_not_canceled\", \"avg_price_per_room\"]\n",
    "\n",
    "for feature in features:\n",
    "    negatives = negative_examples[feature]\n",
    "    positives = positive_examples[feature]\n",
    "    plt.hist(negatives, bins=50, alpha=0.5, label=0)\n",
    "    plt.hist(positives, bins=50, alpha=0.5, label=1)\n",
    "    plt.xlabel(feature)\n",
    "    plt.ylabel(\"count\")\n",
    "    plt.title(\"Histogram of \" + feature + \" by target class\")\n",
    "    plt.legend()\n",
    "    plt.show()\n",
    "\n",
    "\n",
    "stats = train.describe()\n",
    "stats"
   ]
  },
  {
   "cell_type": "markdown",
   "metadata": {},
   "source": [
    "1. Histogram of Repeated Guest split between cancellations and kept\n",
    "2. Histogram of Previous Cancellations split between cancellations and kept\n",
    "3. Histogram of Previous Bookings not Canceled split between cancellations and kept\n",
    "4. Histogram of Room Price split between cancellations and kept\n",
    "5. General Summary Statistic for the data"
   ]
  },
  {
   "cell_type": "code",
   "execution_count": 5,
   "metadata": {},
   "outputs": [
    {
     "data": {
      "text/plain": [
       "no_of_adults                              4.0\n",
       "no_of_children                            9.0\n",
       "no_of_weekend_nights                      7.0\n",
       "no_of_week_nights                        17.0\n",
       "type_of_meal_plan                         3.0\n",
       "required_car_parking_space                1.0\n",
       "room_type_reserved                        6.0\n",
       "lead_time                               443.0\n",
       "arrival_year                              1.0\n",
       "arrival_month                            11.0\n",
       "arrival_date                             30.0\n",
       "market_segment_type                       4.0\n",
       "repeated_guest                            1.0\n",
       "no_of_previous_cancellations             13.0\n",
       "no_of_previous_bookings_not_canceled     58.0\n",
       "avg_price_per_room                      540.0\n",
       "no_of_special_requests                    5.0\n",
       "booking_status                            1.0\n",
       "dtype: float64"
      ]
     },
     "execution_count": 5,
     "metadata": {},
     "output_type": "execute_result"
    }
   ],
   "source": [
    "ranges = stats.loc['max'] - stats.loc['min']\n",
    "ranges"
   ]
  },
  {
   "cell_type": "markdown",
   "metadata": {},
   "source": [
    "6. The Ranges of each feature"
   ]
  },
  {
   "cell_type": "markdown",
   "metadata": {},
   "source": [
    "I did a couple things. One was generating histograms for the 4 features I guessed would be useful from my analysis above. From the histograms, I can see a nice distribution difference for the room price feature, so that confirms that hunch. It seems that cheaper rooms are canceled less often. However, the other histograms did not give me obvious correlations and I wasn't able to confidently draw any conclusions for them. In fact, I was surprised to see very little correlation for the previous cancellations histogram. Perhaps the data is so small on the extreme ends that the graph doesn't show it.\n",
    "\n",
    "The next summary statistic I generated was the general summary statistics for the data. I can immediately see that there is no imputation required, as there are 14509 complete entries in this data-set. Finally, I took a look at the ranges of the data to think about scaling. I can see that room price will definitely need to be scaled, as it has a very large range. In general, I think the majority of the data will need to be scaled.\n",
    "\n",
    "Seeing how the data is spread over three columns, I was at first tempted to try to combine it into one feature. However, I was thinking that month, or day of the month, could be important information on it's own, that I wouldn't want to muddy up by combining it into just one feature. Maybe people cancel more in December, or on the 1st day of every month.\n",
    "\n",
    "Since this model aims to predict the cancellation to save the hotel money, I carefully considered the outcomes of a false positive and false negative. A false negative means that the hotel thinks the customer is coming but they end up canceling, losing the hotel the opportunity to fill a room. A false positive means the hotel assumes the customer isn't coming and gives the room to someone else, which would really hurt the customer and the hotel's brand/relationship with the customer. Therefore, it seems like false positives could be much worse than false negatives. However, I have to consider that some hotel chains are not worried about brand perception with unhappy customers and just want to make money, while other hotel chains would never be willing to take the brand hit. Because this could depend a lot on the hotel chain or booking platform, I wouldn't want to make the choice for the stakeholder. Instead, I would want to present a strong model to them, and then find a metric that they care about most and focus on tuning the model for that metric.\n",
    "\n",
    "Since I want a general metric that shows model performance to a variety of hotel-brand stakeholders, I don't want to choose precision or recall just yet. Instead, I will use the general accuracy of my model to compare them. If I had a real stakeholder to work with, I would want to identify their value function for a canceled room vs a displeased customer and tune my model to that metric."
   ]
  },
  {
   "cell_type": "markdown",
   "metadata": {},
   "source": [
    "<br><br>"
   ]
  },
  {
   "cell_type": "markdown",
   "metadata": {},
   "source": [
    "## (Optional) 4. Feature engineering <a name=\"4\"></a>\n",
    "<hr>\n",
    "rubric={points:1}\n",
    "\n",
    "**Your tasks:**\n",
    "\n",
    "1. Carry out feature engineering. In other words, extract new features relevant for the problem and work with your new feature set in the following exercises. You may have to go back and forth between feature engineering and preprocessing. "
   ]
  },
  {
   "cell_type": "markdown",
   "metadata": {},
   "source": [
    "<br><br>"
   ]
  },
  {
   "cell_type": "markdown",
   "metadata": {},
   "source": [
    "## 5. Preprocessing and transformations <a name=\"5\"></a>\n",
    "<hr>\n",
    "rubric={points:10}\n",
    "\n",
    "**Your tasks:**\n",
    "\n",
    "1. Identify different feature types and the transformations you would apply on each feature type. \n",
    "2. Define a column transformer, if necessary. "
   ]
  },
  {
   "cell_type": "markdown",
   "metadata": {},
   "source": [
    "From my exploratory data analysis, I can see that there are no categorical features and no missing features, so I don't need to worry about imputing or OHE etc. One thing I did identify was that I would need to do some scaling. Additionally, some of the features are binary features. In general, I would want to apply scaling on all the features, except I could ignore scaling the binary features because scaling doesn't mean anything for them. However, I will build a column transformer with inputs of the binary features just in case I every wanted to handle those two types differently. It will have a minimal effect on my model processing time and no effect on the outputs of my model."
   ]
  },
  {
   "cell_type": "code",
   "execution_count": 6,
   "metadata": {},
   "outputs": [],
   "source": [
    "# Adapted from my HW3\n",
    "numeric_features = [\"no_of_adults\",\"no_of_children\",\"no_of_weekend_nights\",\"no_of_week_nights\",\"type_of_meal_plan\",\"room_type_reserved\",\"lead_time\",\"arrival_year\",\"arrival_month\",\"arrival_date\",\"market_segment_type\",\"no_of_previous_cancellations\",\"no_of_previous_bookings_not_canceled\",\"avg_price_per_room\",\"no_of_special_requests\"]\n",
    "binary_features = [\"required_car_parking_space\",\"repeated_guest\"]\n",
    "target = \"booking_status\"\n",
    "drop_features = [target]\n",
    "\n"
   ]
  },
  {
   "cell_type": "code",
   "execution_count": 7,
   "metadata": {},
   "outputs": [
    {
     "data": {
      "text/plain": [
       "(14509, 17)"
      ]
     },
     "execution_count": 7,
     "metadata": {},
     "output_type": "execute_result"
    }
   ],
   "source": [
    "# Adapted from my HW3 and Lecture 5 and Lecture 6 examples\n",
    "X_train = train.drop(columns=drop_features)\n",
    "y_train = train[target]\n",
    "\n",
    "X_test = test.drop(columns=drop_features)\n",
    "y_test = test[target]\n",
    "\n",
    "numeric_features = list(set(numeric_features) - set(drop_features))\n",
    "preprocessor = make_column_transformer(\n",
    "    (StandardScaler(), numeric_features),\n",
    "    (StandardScaler(), binary_features) #A seperate standard scaler is not strictly nessessary for binary data, but \n",
    "    # it allows me to come back and easily handle binary data in a different way by changing one line\n",
    ")\n",
    "\n",
    "pipe = make_pipeline(\n",
    "    preprocessor\n",
    ")\n",
    "\n",
    "X_train_transformed = pd.DataFrame(pipe.fit_transform(X_train))\n",
    "X_train_transformed.shape"
   ]
  },
  {
   "cell_type": "markdown",
   "metadata": {},
   "source": [
    "<br><br>"
   ]
  },
  {
   "cell_type": "markdown",
   "metadata": {},
   "source": [
    "## 6. Baseline model <a name=\"6\"></a>\n",
    "<hr>\n",
    "\n",
    "rubric={points:2}\n",
    "\n",
    "**Your tasks:**\n",
    "1. Try `scikit-learn`'s baseline model and report results."
   ]
  },
  {
   "cell_type": "code",
   "execution_count": 8,
   "metadata": {},
   "outputs": [],
   "source": [
    "# function we used in class, which returns the mean cross-validation score along with standard deviation for a given model\n",
    "def mean_std_cross_val_scores(model, X_train, y_train, **kwargs):\n",
    "    \"\"\"\n",
    "    Returns mean and std of cross validation\n",
    "\n",
    "    Parameters\n",
    "    ----------\n",
    "    model :\n",
    "        scikit-learn model\n",
    "    X_train : numpy array or pandas DataFrame\n",
    "        X in the training data\n",
    "    y_train :\n",
    "        y in the training data\n",
    "\n",
    "    Returns\n",
    "    ----------\n",
    "        pandas Series with mean scores from cross_validation\n",
    "    \"\"\"\n",
    "\n",
    "    scores = cross_validate(model, X_train, y_train, **kwargs)\n",
    "\n",
    "    mean_scores = pd.DataFrame(scores).mean()\n",
    "    std_scores = pd.DataFrame(scores).std()\n",
    "    out_col = []\n",
    "\n",
    "    for i in range(len(mean_scores)):\n",
    "        out_col.append((f\"%0.3f (+/- %0.3f)\" % (mean_scores[i], std_scores[i])))\n",
    "\n",
    "    return pd.Series(data=out_col, index=mean_scores.index)"
   ]
  },
  {
   "cell_type": "code",
   "execution_count": 9,
   "metadata": {},
   "outputs": [
    {
     "data": {
      "text/html": [
       "<div>\n",
       "<style scoped>\n",
       "    .dataframe tbody tr th:only-of-type {\n",
       "        vertical-align: middle;\n",
       "    }\n",
       "\n",
       "    .dataframe tbody tr th {\n",
       "        vertical-align: top;\n",
       "    }\n",
       "\n",
       "    .dataframe thead th {\n",
       "        text-align: right;\n",
       "    }\n",
       "</style>\n",
       "<table border=\"1\" class=\"dataframe\">\n",
       "  <thead>\n",
       "    <tr style=\"text-align: right;\">\n",
       "      <th></th>\n",
       "      <th>dummy classifier</th>\n",
       "    </tr>\n",
       "  </thead>\n",
       "  <tbody>\n",
       "    <tr>\n",
       "      <th>fit_time</th>\n",
       "      <td>0.014 (+/- 0.004)</td>\n",
       "    </tr>\n",
       "    <tr>\n",
       "      <th>score_time</th>\n",
       "      <td>0.005 (+/- 0.001)</td>\n",
       "    </tr>\n",
       "    <tr>\n",
       "      <th>test_score</th>\n",
       "      <td>0.673 (+/- 0.000)</td>\n",
       "    </tr>\n",
       "    <tr>\n",
       "      <th>train_score</th>\n",
       "      <td>0.673 (+/- 0.000)</td>\n",
       "    </tr>\n",
       "  </tbody>\n",
       "</table>\n",
       "</div>"
      ],
      "text/plain": [
       "              dummy classifier\n",
       "fit_time     0.014 (+/- 0.004)\n",
       "score_time   0.005 (+/- 0.001)\n",
       "test_score   0.673 (+/- 0.000)\n",
       "train_score  0.673 (+/- 0.000)"
      ]
     },
     "execution_count": 9,
     "metadata": {},
     "output_type": "execute_result"
    }
   ],
   "source": [
    "# Adapted from my HW3\n",
    "\n",
    "results_dict = {} # dictionary to store all the results\n",
    "\n",
    "pipe = make_pipeline(\n",
    "    preprocessor, DummyClassifier(strategy=\"prior\")\n",
    ")\n",
    "\n",
    "\n",
    "results_dict[\"dummy classifier\"] = mean_std_cross_val_scores(pipe, X_train, y_train, cv=5, return_train_score=True)\n",
    "\n",
    "pd.DataFrame(results_dict)"
   ]
  },
  {
   "cell_type": "markdown",
   "metadata": {},
   "source": [
    "As expected, a dummy classifier just chooses the most common prediction in the training set and always predicts that. In this case, the most common value in the training set is 0, (not canceled), and the test and train accuracy of this model is the same as the overall distribution of the most common case in the data. However, it does give us a baseline to compare our other models against."
   ]
  },
  {
   "cell_type": "markdown",
   "metadata": {},
   "source": [
    "<br><br>"
   ]
  },
  {
   "cell_type": "markdown",
   "metadata": {},
   "source": [
    "## 7. Linear models <a name=\"7\"></a>\n",
    "<hr>\n",
    "rubric={points:12}\n",
    "\n",
    "**Your tasks:**\n",
    "\n",
    "1. Try logistic regression as a first real attempt. \n",
    "2. Carry out hyperparameter tuning to explore different values for the complexity hyperparameter `C`. \n",
    "3. Report validation scores along with standard deviation. \n",
    "4. Summarize your results."
   ]
  },
  {
   "cell_type": "code",
   "execution_count": 10,
   "metadata": {},
   "outputs": [
    {
     "data": {
      "text/html": [
       "<div>\n",
       "<style scoped>\n",
       "    .dataframe tbody tr th:only-of-type {\n",
       "        vertical-align: middle;\n",
       "    }\n",
       "\n",
       "    .dataframe tbody tr th {\n",
       "        vertical-align: top;\n",
       "    }\n",
       "\n",
       "    .dataframe thead th {\n",
       "        text-align: right;\n",
       "    }\n",
       "</style>\n",
       "<table border=\"1\" class=\"dataframe\">\n",
       "  <thead>\n",
       "    <tr style=\"text-align: right;\">\n",
       "      <th></th>\n",
       "      <th>dummy classifier</th>\n",
       "      <th>LogisticRegression</th>\n",
       "    </tr>\n",
       "  </thead>\n",
       "  <tbody>\n",
       "    <tr>\n",
       "      <th>fit_time</th>\n",
       "      <td>0.014 (+/- 0.004)</td>\n",
       "      <td>0.035 (+/- 0.004)</td>\n",
       "    </tr>\n",
       "    <tr>\n",
       "      <th>score_time</th>\n",
       "      <td>0.005 (+/- 0.001)</td>\n",
       "      <td>0.005 (+/- 0.000)</td>\n",
       "    </tr>\n",
       "    <tr>\n",
       "      <th>test_score</th>\n",
       "      <td>0.673 (+/- 0.000)</td>\n",
       "      <td>0.794 (+/- 0.005)</td>\n",
       "    </tr>\n",
       "    <tr>\n",
       "      <th>train_score</th>\n",
       "      <td>0.673 (+/- 0.000)</td>\n",
       "      <td>0.795 (+/- 0.002)</td>\n",
       "    </tr>\n",
       "  </tbody>\n",
       "</table>\n",
       "</div>"
      ],
      "text/plain": [
       "              dummy classifier LogisticRegression\n",
       "fit_time     0.014 (+/- 0.004)  0.035 (+/- 0.004)\n",
       "score_time   0.005 (+/- 0.001)  0.005 (+/- 0.000)\n",
       "test_score   0.673 (+/- 0.000)  0.794 (+/- 0.005)\n",
       "train_score  0.673 (+/- 0.000)  0.795 (+/- 0.002)"
      ]
     },
     "execution_count": 10,
     "metadata": {},
     "output_type": "execute_result"
    }
   ],
   "source": [
    "pipe = make_pipeline(\n",
    "    preprocessor, LogisticRegression()\n",
    ")\n",
    "\n",
    "\n",
    "results_dict[\"LogisticRegression\"] = mean_std_cross_val_scores(pipe, X_train, y_train, cv=5, return_train_score=True)\n",
    "\n",
    "pd.DataFrame(results_dict)"
   ]
  },
  {
   "cell_type": "code",
   "execution_count": 27,
   "metadata": {},
   "outputs": [
    {
     "data": {
      "text/html": [
       "<div>\n",
       "<style scoped>\n",
       "    .dataframe tbody tr th:only-of-type {\n",
       "        vertical-align: middle;\n",
       "    }\n",
       "\n",
       "    .dataframe tbody tr th {\n",
       "        vertical-align: top;\n",
       "    }\n",
       "\n",
       "    .dataframe thead th {\n",
       "        text-align: right;\n",
       "    }\n",
       "</style>\n",
       "<table border=\"1\" class=\"dataframe\">\n",
       "  <thead>\n",
       "    <tr style=\"text-align: right;\">\n",
       "      <th></th>\n",
       "      <th>C = 0.001</th>\n",
       "      <th>C = 0.01</th>\n",
       "      <th>C = 0.1</th>\n",
       "      <th>C = 1.0</th>\n",
       "      <th>C = 10.0</th>\n",
       "      <th>C = 100.0</th>\n",
       "      <th>C = 1000.0</th>\n",
       "    </tr>\n",
       "  </thead>\n",
       "  <tbody>\n",
       "    <tr>\n",
       "      <th>fit_time</th>\n",
       "      <td>0.029 (+/- 0.006)</td>\n",
       "      <td>0.037 (+/- 0.006)</td>\n",
       "      <td>0.031 (+/- 0.002)</td>\n",
       "      <td>0.040 (+/- 0.004)</td>\n",
       "      <td>0.034 (+/- 0.005)</td>\n",
       "      <td>0.033 (+/- 0.004)</td>\n",
       "      <td>0.030 (+/- 0.002)</td>\n",
       "    </tr>\n",
       "    <tr>\n",
       "      <th>score_time</th>\n",
       "      <td>0.006 (+/- 0.001)</td>\n",
       "      <td>0.006 (+/- 0.001)</td>\n",
       "      <td>0.005 (+/- 0.001)</td>\n",
       "      <td>0.006 (+/- 0.001)</td>\n",
       "      <td>0.006 (+/- 0.002)</td>\n",
       "      <td>0.006 (+/- 0.001)</td>\n",
       "      <td>0.005 (+/- 0.001)</td>\n",
       "    </tr>\n",
       "    <tr>\n",
       "      <th>test_score</th>\n",
       "      <td>0.783 (+/- 0.003)</td>\n",
       "      <td>0.793 (+/- 0.005)</td>\n",
       "      <td>0.794 (+/- 0.006)</td>\n",
       "      <td>0.794 (+/- 0.005)</td>\n",
       "      <td>0.794 (+/- 0.005)</td>\n",
       "      <td>0.794 (+/- 0.005)</td>\n",
       "      <td>0.794 (+/- 0.005)</td>\n",
       "    </tr>\n",
       "    <tr>\n",
       "      <th>train_score</th>\n",
       "      <td>0.784 (+/- 0.002)</td>\n",
       "      <td>0.793 (+/- 0.002)</td>\n",
       "      <td>0.795 (+/- 0.002)</td>\n",
       "      <td>0.795 (+/- 0.002)</td>\n",
       "      <td>0.795 (+/- 0.002)</td>\n",
       "      <td>0.795 (+/- 0.002)</td>\n",
       "      <td>0.795 (+/- 0.002)</td>\n",
       "    </tr>\n",
       "  </tbody>\n",
       "</table>\n",
       "</div>"
      ],
      "text/plain": [
       "                     C = 0.001           C = 0.01            C = 0.1  \\\n",
       "fit_time     0.029 (+/- 0.006)  0.037 (+/- 0.006)  0.031 (+/- 0.002)   \n",
       "score_time   0.006 (+/- 0.001)  0.006 (+/- 0.001)  0.005 (+/- 0.001)   \n",
       "test_score   0.783 (+/- 0.003)  0.793 (+/- 0.005)  0.794 (+/- 0.006)   \n",
       "train_score  0.784 (+/- 0.002)  0.793 (+/- 0.002)  0.795 (+/- 0.002)   \n",
       "\n",
       "                       C = 1.0           C = 10.0          C = 100.0  \\\n",
       "fit_time     0.040 (+/- 0.004)  0.034 (+/- 0.005)  0.033 (+/- 0.004)   \n",
       "score_time   0.006 (+/- 0.001)  0.006 (+/- 0.002)  0.006 (+/- 0.001)   \n",
       "test_score   0.794 (+/- 0.005)  0.794 (+/- 0.005)  0.794 (+/- 0.005)   \n",
       "train_score  0.795 (+/- 0.002)  0.795 (+/- 0.002)  0.795 (+/- 0.002)   \n",
       "\n",
       "                    C = 1000.0  \n",
       "fit_time     0.030 (+/- 0.002)  \n",
       "score_time   0.005 (+/- 0.001)  \n",
       "test_score   0.794 (+/- 0.005)  \n",
       "train_score  0.795 (+/- 0.002)  "
      ]
     },
     "execution_count": 27,
     "metadata": {},
     "output_type": "execute_result"
    }
   ],
   "source": [
    "hyper_param_dict = {}\n",
    "Cs = np.logspace(-3, 3, num=7, base=10)\n",
    "\n",
    "for C_val in Cs:\n",
    "    pipe = make_pipeline(preprocessor, LogisticRegression(C=C_val))\n",
    "    k = \"C = \" + str(C_val);\n",
    "    hyper_param_dict[k] = mean_std_cross_val_scores(pipe, X_train, y_train, cv=5, return_train_score=True)\n",
    "\n",
    "pd.DataFrame(hyper_param_dict)"
   ]
  },
  {
   "cell_type": "markdown",
   "metadata": {},
   "source": [
    "I was actually suprised to see a somewhat low value for the LogisticRegression model. The dummy classifier gave me an accuracy around 67%, so logistic regression only reaching around 80% was suprising to me. It is interesting to see that the train score is just as low, instead of nearing 100% like I've often seen. I was also very interested to see that the C hyperparameter tuning had very little effect. Once C reaches around 0.1 nothing changed significantly by increasing C, while lower C values had a slightly slightly lower accuracy. This makes me excited to see if other models can do better."
   ]
  },
  {
   "cell_type": "markdown",
   "metadata": {},
   "source": [
    "<br><br>"
   ]
  },
  {
   "cell_type": "markdown",
   "metadata": {},
   "source": [
    "## 8. Different classifiers <a name=\"8\"></a>\n",
    "<hr>\n",
    "rubric={points:15}\n",
    "\n",
    "**Your tasks:**\n",
    "1. Try at least 3 other models aside from logistic regression. At least one of these models should be a tree-based ensemble model (e.g., lgbm, random forest, xgboost). \n",
    "2. Summarize your results. Can you beat logistic regression? "
   ]
  },
  {
   "cell_type": "code",
   "execution_count": 14,
   "metadata": {},
   "outputs": [
    {
     "data": {
      "text/html": [
       "<div>\n",
       "<style scoped>\n",
       "    .dataframe tbody tr th:only-of-type {\n",
       "        vertical-align: middle;\n",
       "    }\n",
       "\n",
       "    .dataframe tbody tr th {\n",
       "        vertical-align: top;\n",
       "    }\n",
       "\n",
       "    .dataframe thead th {\n",
       "        text-align: right;\n",
       "    }\n",
       "</style>\n",
       "<table border=\"1\" class=\"dataframe\">\n",
       "  <thead>\n",
       "    <tr style=\"text-align: right;\">\n",
       "      <th></th>\n",
       "      <th>dummy classifier</th>\n",
       "      <th>LogisticRegression</th>\n",
       "      <th>decision tree</th>\n",
       "      <th>kNN</th>\n",
       "      <th>RBF SVM</th>\n",
       "      <th>Random Forest</th>\n",
       "    </tr>\n",
       "  </thead>\n",
       "  <tbody>\n",
       "    <tr>\n",
       "      <th>fit_time</th>\n",
       "      <td>0.014 (+/- 0.004)</td>\n",
       "      <td>0.035 (+/- 0.004)</td>\n",
       "      <td>0.050 (+/- 0.004)</td>\n",
       "      <td>0.013 (+/- 0.000)</td>\n",
       "      <td>3.719 (+/- 0.188)</td>\n",
       "      <td>0.383 (+/- 0.007)</td>\n",
       "    </tr>\n",
       "    <tr>\n",
       "      <th>score_time</th>\n",
       "      <td>0.005 (+/- 0.001)</td>\n",
       "      <td>0.005 (+/- 0.000)</td>\n",
       "      <td>0.006 (+/- 0.001)</td>\n",
       "      <td>0.179 (+/- 0.003)</td>\n",
       "      <td>1.887 (+/- 0.156)</td>\n",
       "      <td>0.038 (+/- 0.003)</td>\n",
       "    </tr>\n",
       "    <tr>\n",
       "      <th>test_score</th>\n",
       "      <td>0.673 (+/- 0.000)</td>\n",
       "      <td>0.794 (+/- 0.005)</td>\n",
       "      <td>0.849 (+/- 0.007)</td>\n",
       "      <td>0.831 (+/- 0.004)</td>\n",
       "      <td>0.835 (+/- 0.004)</td>\n",
       "      <td>0.890 (+/- 0.006)</td>\n",
       "    </tr>\n",
       "    <tr>\n",
       "      <th>train_score</th>\n",
       "      <td>0.673 (+/- 0.000)</td>\n",
       "      <td>0.795 (+/- 0.002)</td>\n",
       "      <td>0.996 (+/- 0.000)</td>\n",
       "      <td>0.884 (+/- 0.002)</td>\n",
       "      <td>0.851 (+/- 0.002)</td>\n",
       "      <td>0.996 (+/- 0.000)</td>\n",
       "    </tr>\n",
       "  </tbody>\n",
       "</table>\n",
       "</div>"
      ],
      "text/plain": [
       "              dummy classifier LogisticRegression      decision tree  \\\n",
       "fit_time     0.014 (+/- 0.004)  0.035 (+/- 0.004)  0.050 (+/- 0.004)   \n",
       "score_time   0.005 (+/- 0.001)  0.005 (+/- 0.000)  0.006 (+/- 0.001)   \n",
       "test_score   0.673 (+/- 0.000)  0.794 (+/- 0.005)  0.849 (+/- 0.007)   \n",
       "train_score  0.673 (+/- 0.000)  0.795 (+/- 0.002)  0.996 (+/- 0.000)   \n",
       "\n",
       "                           kNN            RBF SVM      Random Forest  \n",
       "fit_time     0.013 (+/- 0.000)  3.719 (+/- 0.188)  0.383 (+/- 0.007)  \n",
       "score_time   0.179 (+/- 0.003)  1.887 (+/- 0.156)  0.038 (+/- 0.003)  \n",
       "test_score   0.831 (+/- 0.004)  0.835 (+/- 0.004)  0.890 (+/- 0.006)  \n",
       "train_score  0.884 (+/- 0.002)  0.851 (+/- 0.002)  0.996 (+/- 0.000)  "
      ]
     },
     "execution_count": 14,
     "metadata": {},
     "output_type": "execute_result"
    }
   ],
   "source": [
    "#Based on Lecture 11 and my HW 3\n",
    "models = {\n",
    "    \"decision tree\": DecisionTreeClassifier(max_depth=50),\n",
    "    \"kNN\": KNeighborsClassifier(),\n",
    "    \"RBF SVM\": SVC(),\n",
    "    \"Random Forest\": RandomForestClassifier(random_state=123, n_jobs=-1, n_estimators=100)\n",
    "}\n",
    "for key in models.keys():\n",
    "    pipe = make_pipeline(preprocessor, models[key])\n",
    "    results_dict[key] = mean_std_cross_val_scores(pipe, X_train, y_train, cv=5, return_train_score=True)\n",
    "    \n",
    "pd.DataFrame(results_dict)"
   ]
  },
  {
   "cell_type": "markdown",
   "metadata": {},
   "source": [
    "I tried a few different models: decision tree with a max_depth of 50, a nearest neighbors, a RBF SVM, and a Random Forest model. All of them had a higher validation accuracy than the logistic regression. So far it seems very easy to beat Logistic Regression. The Random Forest had the higher validation accuracy of all the models, followed by the decision tree, followed by RBF SVM, followed by kNN, followed by Logistic Regression. Both Random Forest and the decision tree have a very high training score and are likely to be overfitting. In the hyperparameter optimization section, I would like to tune their hyperparameters and continue to compare them to RBF SVM, the highest performing model that doesn't show much overfitting. \n",
    "\n",
    "I am especially interested in the decision tree model, as decision trees are a very easy model to communicate to stakeholders and are very fast to score and fit (ideal for a system with many users that might not be top of the line like for a hotel)."
   ]
  },
  {
   "cell_type": "markdown",
   "metadata": {},
   "source": [
    "<br><br>"
   ]
  },
  {
   "cell_type": "markdown",
   "metadata": {},
   "source": [
    "## (Optional) 9. Feature selection <a name=\"9\"></a>\n",
    "<hr>\n",
    "rubric={points:1}\n",
    "\n",
    "**Your tasks:**\n",
    "\n",
    "Make some attempts to select relevant features. You may try `RFECV` or forward selection. Do the results improve with feature selection? Summarize your results. If you see improvements in the results, keep feature selection in your pipeline. If not, you may abandon it in the next exercises. "
   ]
  },
  {
   "cell_type": "markdown",
   "metadata": {},
   "source": [
    "<br><br>"
   ]
  },
  {
   "cell_type": "markdown",
   "metadata": {},
   "source": [
    "## 10. Hyperparameter optimization <a name=\"10\"></a>\n",
    "<hr>\n",
    "rubric={points:15}\n",
    "\n",
    "**Your tasks:**\n",
    "\n",
    "Make some attempts to optimize hyperparameters for the models you've tried and summarize your results. You may pick one of the best performing models from the previous exercise and tune hyperparameters only for that model. You may use `sklearn`'s methods for hyperparameter optimization or fancier Bayesian optimization methods. \n",
    "  - [GridSearchCV](http://scikit-learn.org/stable/modules/generated/sklearn.model_selection.GridSearchCV.html)   \n",
    "  - [RandomizedSearchCV](http://scikit-learn.org/stable/modules/generated/sklearn.model_selection.RandomizedSearchCV.html)\n",
    "  - [scikit-optimize](https://github.com/scikit-optimize/scikit-optimize)"
   ]
  },
  {
   "cell_type": "code",
   "execution_count": null,
   "metadata": {},
   "outputs": [],
   "source": [
    "# Hyperparameter optimization for decision tree\n",
    "# Tune max_depth\n",
    "tree_tune_results = {}\n",
    "depths = np.linspace(1, 1001, 251)\n",
    "\n",
    "for depth in depths:\n",
    "    depth = int(depth)\n",
    "    pipe = make_pipeline(preprocessor, DecisionTreeClassifier(max_depth=depth))\n",
    "    tree_tune_results[depth] = mean_std_cross_val_scores(pipe, X_train, y_train, cv=5, return_train_score=True)\n",
    "\n",
    "pd.DataFrame(tree_tune_results)\n",
    "\n",
    "validation_accuracy = pd.DataFrame(tree_tune_results).iloc[2]\n",
    "validation_accuracy = [val.split(\" \")[0] for val in validation_accuracy]\n",
    "validation_accuracy = [float(val) for val in validation_accuracy]\n",
    "\n",
    "# Create a plot\n",
    "plt.plot(depths, validation_accuracy)\n",
    "\n",
    "# Add axis labels and a title\n",
    "plt.xlabel('Decision Tree Depth')\n",
    "plt.ylabel('Validation Accuracy')\n",
    "plt.title('Decision Tree Depth vs Validation Accuracy')\n",
    "\n",
    "# Display the plot\n",
    "print(\"Hyperparameter optimization for Single Decision Tree\")\n",
    "plt.show()"
   ]
  },
  {
   "cell_type": "code",
   "execution_count": 50,
   "metadata": {},
   "outputs": [],
   "source": [
    "# Hyperparameter optimization for Random Forest\n",
    "# Tune n_estimators and max_depth\n",
    "depths = np.linspace(1, 201, 5)\n",
    "depths = np.round(depths).astype(int)\n",
    "forest_tune_results = {}\n",
    "estimator_counts = np.linspace(1, 201, 7)\n",
    "estimator_counts = np.round(estimator_counts).astype(int)\n",
    "\n",
    "for depth in depths:\n",
    "    for estimators in estimator_counts:\n",
    "        depth = int(depth)\n",
    "        estimators = int(estimators)\n",
    "        pipe = make_pipeline(preprocessor, RandomForestClassifier(random_state=123, n_jobs=-1, n_estimators=estimators, max_depth=depth))\n",
    "        result = mean_std_cross_val_scores(pipe, X_train, y_train, cv=5, return_train_score=True)\n",
    "        result = result['test_score']\n",
    "        forest_tune_results[(depth, estimators)] = result\n",
    "\n",
    "\n",
    "\n",
    "\n"
   ]
  },
  {
   "cell_type": "code",
   "execution_count": 51,
   "metadata": {},
   "outputs": [
    {
     "name": "stdout",
     "output_type": "stream",
     "text": [
      "Hyperparameter optimization for Random Forest\n",
      "Max Tree Depth along the side, Estimator Count along the top, Validation Accuracy as the table values\n"
     ]
    },
    {
     "data": {
      "text/html": [
       "<div>\n",
       "<style scoped>\n",
       "    .dataframe tbody tr th:only-of-type {\n",
       "        vertical-align: middle;\n",
       "    }\n",
       "\n",
       "    .dataframe tbody tr th {\n",
       "        vertical-align: top;\n",
       "    }\n",
       "\n",
       "    .dataframe thead th {\n",
       "        text-align: right;\n",
       "    }\n",
       "</style>\n",
       "<table border=\"1\" class=\"dataframe\">\n",
       "  <thead>\n",
       "    <tr style=\"text-align: right;\">\n",
       "      <th></th>\n",
       "      <th>1</th>\n",
       "      <th>34</th>\n",
       "      <th>68</th>\n",
       "      <th>101</th>\n",
       "      <th>134</th>\n",
       "      <th>168</th>\n",
       "      <th>201</th>\n",
       "    </tr>\n",
       "  </thead>\n",
       "  <tbody>\n",
       "    <tr>\n",
       "      <th>1</th>\n",
       "      <td>0.761 (+/- 0.005)</td>\n",
       "      <td>0.684 (+/- 0.024)</td>\n",
       "      <td>0.673 (+/- 0.000)</td>\n",
       "      <td>0.673 (+/- 0.000)</td>\n",
       "      <td>0.673 (+/- 0.000)</td>\n",
       "      <td>0.673 (+/- 0.000)</td>\n",
       "      <td>0.673 (+/- 0.000)</td>\n",
       "    </tr>\n",
       "    <tr>\n",
       "      <th>51</th>\n",
       "      <td>0.828 (+/- 0.004)</td>\n",
       "      <td>0.888 (+/- 0.004)</td>\n",
       "      <td>0.890 (+/- 0.006)</td>\n",
       "      <td>0.889 (+/- 0.006)</td>\n",
       "      <td>0.891 (+/- 0.005)</td>\n",
       "      <td>0.890 (+/- 0.005)</td>\n",
       "      <td>0.890 (+/- 0.005)</td>\n",
       "    </tr>\n",
       "    <tr>\n",
       "      <th>101</th>\n",
       "      <td>0.828 (+/- 0.004)</td>\n",
       "      <td>0.888 (+/- 0.004)</td>\n",
       "      <td>0.890 (+/- 0.006)</td>\n",
       "      <td>0.889 (+/- 0.006)</td>\n",
       "      <td>0.891 (+/- 0.005)</td>\n",
       "      <td>0.890 (+/- 0.005)</td>\n",
       "      <td>0.890 (+/- 0.005)</td>\n",
       "    </tr>\n",
       "    <tr>\n",
       "      <th>151</th>\n",
       "      <td>0.828 (+/- 0.004)</td>\n",
       "      <td>0.888 (+/- 0.004)</td>\n",
       "      <td>0.890 (+/- 0.006)</td>\n",
       "      <td>0.889 (+/- 0.006)</td>\n",
       "      <td>0.891 (+/- 0.005)</td>\n",
       "      <td>0.890 (+/- 0.005)</td>\n",
       "      <td>0.890 (+/- 0.005)</td>\n",
       "    </tr>\n",
       "    <tr>\n",
       "      <th>201</th>\n",
       "      <td>0.828 (+/- 0.004)</td>\n",
       "      <td>0.888 (+/- 0.004)</td>\n",
       "      <td>0.890 (+/- 0.006)</td>\n",
       "      <td>0.889 (+/- 0.006)</td>\n",
       "      <td>0.891 (+/- 0.005)</td>\n",
       "      <td>0.890 (+/- 0.005)</td>\n",
       "      <td>0.890 (+/- 0.005)</td>\n",
       "    </tr>\n",
       "  </tbody>\n",
       "</table>\n",
       "</div>"
      ],
      "text/plain": [
       "                   1                  34                 68   \\\n",
       "1    0.761 (+/- 0.005)  0.684 (+/- 0.024)  0.673 (+/- 0.000)   \n",
       "51   0.828 (+/- 0.004)  0.888 (+/- 0.004)  0.890 (+/- 0.006)   \n",
       "101  0.828 (+/- 0.004)  0.888 (+/- 0.004)  0.890 (+/- 0.006)   \n",
       "151  0.828 (+/- 0.004)  0.888 (+/- 0.004)  0.890 (+/- 0.006)   \n",
       "201  0.828 (+/- 0.004)  0.888 (+/- 0.004)  0.890 (+/- 0.006)   \n",
       "\n",
       "                   101                134                168  \\\n",
       "1    0.673 (+/- 0.000)  0.673 (+/- 0.000)  0.673 (+/- 0.000)   \n",
       "51   0.889 (+/- 0.006)  0.891 (+/- 0.005)  0.890 (+/- 0.005)   \n",
       "101  0.889 (+/- 0.006)  0.891 (+/- 0.005)  0.890 (+/- 0.005)   \n",
       "151  0.889 (+/- 0.006)  0.891 (+/- 0.005)  0.890 (+/- 0.005)   \n",
       "201  0.889 (+/- 0.006)  0.891 (+/- 0.005)  0.890 (+/- 0.005)   \n",
       "\n",
       "                   201  \n",
       "1    0.673 (+/- 0.000)  \n",
       "51   0.890 (+/- 0.005)  \n",
       "101  0.890 (+/- 0.005)  \n",
       "151  0.890 (+/- 0.005)  \n",
       "201  0.890 (+/- 0.005)  "
      ]
     },
     "execution_count": 51,
     "metadata": {},
     "output_type": "execute_result"
    }
   ],
   "source": [
    "print(\"Hyperparameter optimization for Random Forest\")\n",
    "print(\"Max Tree Depth along the side, Estimator Count along the top, Validation Accuracy as the table values\")\n",
    "w = max(depths.shape)\n",
    "h = max(estimator_counts.shape)\n",
    "# Create an empty DataFrame with the specified size\n",
    "df = pd.DataFrame(index=range(w), columns=estimator_counts)\n",
    "\n",
    "# Fill the DataFrame with random values using a double for loop\n",
    "for i in range(w):\n",
    "    for j in range(h):\n",
    "        i = int(i)\n",
    "        j = int(j)\n",
    "        df.iloc[i, j] = forest_tune_results[(int(depths[i]),int(estimator_counts[j]))]\n",
    "        \n",
    "#Re-lable DataFrame\n",
    "df.index = depths\n",
    "# Print the resulting DataFrame\n",
    "df"
   ]
  },
  {
   "cell_type": "code",
   "execution_count": 53,
   "metadata": {},
   "outputs": [
    {
     "data": {
      "text/html": [
       "<div>\n",
       "<style scoped>\n",
       "    .dataframe tbody tr th:only-of-type {\n",
       "        vertical-align: middle;\n",
       "    }\n",
       "\n",
       "    .dataframe tbody tr th {\n",
       "        vertical-align: top;\n",
       "    }\n",
       "\n",
       "    .dataframe thead th {\n",
       "        text-align: right;\n",
       "    }\n",
       "</style>\n",
       "<table border=\"1\" class=\"dataframe\">\n",
       "  <thead>\n",
       "    <tr style=\"text-align: right;\">\n",
       "      <th></th>\n",
       "      <th>dummy classifier</th>\n",
       "      <th>LogisticRegression</th>\n",
       "      <th>decision tree</th>\n",
       "      <th>kNN</th>\n",
       "      <th>RBF SVM</th>\n",
       "      <th>Random Forest</th>\n",
       "      <th>decision tree (Tuned)</th>\n",
       "      <th>Random Forest (Tuned)</th>\n",
       "    </tr>\n",
       "  </thead>\n",
       "  <tbody>\n",
       "    <tr>\n",
       "      <th>fit_time</th>\n",
       "      <td>0.014 (+/- 0.004)</td>\n",
       "      <td>0.035 (+/- 0.004)</td>\n",
       "      <td>0.050 (+/- 0.004)</td>\n",
       "      <td>0.013 (+/- 0.000)</td>\n",
       "      <td>3.719 (+/- 0.188)</td>\n",
       "      <td>0.383 (+/- 0.007)</td>\n",
       "      <td>0.063 (+/- 0.010)</td>\n",
       "      <td>0.303 (+/- 0.023)</td>\n",
       "    </tr>\n",
       "    <tr>\n",
       "      <th>score_time</th>\n",
       "      <td>0.005 (+/- 0.001)</td>\n",
       "      <td>0.005 (+/- 0.000)</td>\n",
       "      <td>0.006 (+/- 0.001)</td>\n",
       "      <td>0.179 (+/- 0.003)</td>\n",
       "      <td>1.887 (+/- 0.156)</td>\n",
       "      <td>0.038 (+/- 0.003)</td>\n",
       "      <td>0.009 (+/- 0.003)</td>\n",
       "      <td>0.031 (+/- 0.003)</td>\n",
       "    </tr>\n",
       "    <tr>\n",
       "      <th>test_score</th>\n",
       "      <td>0.673 (+/- 0.000)</td>\n",
       "      <td>0.794 (+/- 0.005)</td>\n",
       "      <td>0.849 (+/- 0.007)</td>\n",
       "      <td>0.831 (+/- 0.004)</td>\n",
       "      <td>0.835 (+/- 0.004)</td>\n",
       "      <td>0.890 (+/- 0.006)</td>\n",
       "      <td>0.847 (+/- 0.007)</td>\n",
       "      <td>0.890 (+/- 0.006)</td>\n",
       "    </tr>\n",
       "    <tr>\n",
       "      <th>train_score</th>\n",
       "      <td>0.673 (+/- 0.000)</td>\n",
       "      <td>0.795 (+/- 0.002)</td>\n",
       "      <td>0.996 (+/- 0.000)</td>\n",
       "      <td>0.884 (+/- 0.002)</td>\n",
       "      <td>0.851 (+/- 0.002)</td>\n",
       "      <td>0.996 (+/- 0.000)</td>\n",
       "      <td>0.996 (+/- 0.000)</td>\n",
       "      <td>0.996 (+/- 0.000)</td>\n",
       "    </tr>\n",
       "  </tbody>\n",
       "</table>\n",
       "</div>"
      ],
      "text/plain": [
       "              dummy classifier LogisticRegression      decision tree  \\\n",
       "fit_time     0.014 (+/- 0.004)  0.035 (+/- 0.004)  0.050 (+/- 0.004)   \n",
       "score_time   0.005 (+/- 0.001)  0.005 (+/- 0.000)  0.006 (+/- 0.001)   \n",
       "test_score   0.673 (+/- 0.000)  0.794 (+/- 0.005)  0.849 (+/- 0.007)   \n",
       "train_score  0.673 (+/- 0.000)  0.795 (+/- 0.002)  0.996 (+/- 0.000)   \n",
       "\n",
       "                           kNN            RBF SVM      Random Forest  \\\n",
       "fit_time     0.013 (+/- 0.000)  3.719 (+/- 0.188)  0.383 (+/- 0.007)   \n",
       "score_time   0.179 (+/- 0.003)  1.887 (+/- 0.156)  0.038 (+/- 0.003)   \n",
       "test_score   0.831 (+/- 0.004)  0.835 (+/- 0.004)  0.890 (+/- 0.006)   \n",
       "train_score  0.884 (+/- 0.002)  0.851 (+/- 0.002)  0.996 (+/- 0.000)   \n",
       "\n",
       "            decision tree (Tuned) Random Forest (Tuned)  \n",
       "fit_time        0.063 (+/- 0.010)     0.303 (+/- 0.023)  \n",
       "score_time      0.009 (+/- 0.003)     0.031 (+/- 0.003)  \n",
       "test_score      0.847 (+/- 0.007)     0.890 (+/- 0.006)  \n",
       "train_score     0.996 (+/- 0.000)     0.996 (+/- 0.000)  "
      ]
     },
     "execution_count": 53,
     "metadata": {},
     "output_type": "execute_result"
    }
   ],
   "source": [
    "# Try out the new, tuned models\n",
    "\n",
    "pipe = make_pipeline(preprocessor, DecisionTreeClassifier(max_depth=50))\n",
    "results_dict[\"decision tree (Optimized)\"] = mean_std_cross_val_scores(pipe, X_train, y_train, cv=5, return_train_score=True)\n",
    "\n",
    "pipe = make_pipeline(preprocessor, RandomForestClassifier(random_state=123, n_jobs=-1, n_estimators=68, max_depth=51))\n",
    "results_dict[\"Random Forest (Optimized)\"] = mean_std_cross_val_scores(pipe, X_train, y_train, cv=5, return_train_score=True)\n",
    "\n",
    "pd.DataFrame(results_dict)"
   ]
  },
  {
   "cell_type": "markdown",
   "metadata": {},
   "source": [
    "<br><br>"
   ]
  },
  {
   "cell_type": "markdown",
   "metadata": {},
   "source": [
    "## 11. Interpretation and feature importances <a name=\"1\"></a>\n",
    "<hr>\n",
    "rubric={points:15}\n",
    "\n",
    "**Your tasks:**\n",
    "\n",
    "1. Use the methods we saw in class (e.g., `eli5`, `shap`) (or any other methods of your choice) to explain feature importances of one of the best performing models. Summarize your observations. "
   ]
  },
  {
   "cell_type": "markdown",
   "metadata": {},
   "source": [
    "<br><br>"
   ]
  },
  {
   "cell_type": "markdown",
   "metadata": {},
   "source": [
    "## 12. Results on the test set <a name=\"12\"></a>\n",
    "<hr>\n",
    "\n",
    "rubric={points:5}\n",
    "\n",
    "**Your tasks:**\n",
    "\n",
    "1. Try your best performing model on the test data and report test scores. \n",
    "2. Do the test scores agree with the validation scores from before? To what extent do you trust your results? Do you think you've had issues with optimization bias? "
   ]
  },
  {
   "cell_type": "markdown",
   "metadata": {},
   "source": [
    "<br><br>"
   ]
  },
  {
   "cell_type": "markdown",
   "metadata": {},
   "source": [
    "## (Optional) 13. Explaining predictions \n",
    "rubric={points:1}\n",
    "\n",
    "**Your tasks**\n",
    "\n",
    "1. Take one or two test predictions and explain them with SHAP force plots.  "
   ]
  },
  {
   "cell_type": "markdown",
   "metadata": {},
   "source": [
    "<br><br>"
   ]
  },
  {
   "cell_type": "markdown",
   "metadata": {},
   "source": [
    "## 14. Summary of results <a name=\"13\"></a>\n",
    "<hr>\n",
    "rubric={points:10}\n",
    "\n",
    "**Your tasks:**\n",
    "\n",
    "1. Report your final test score along with the metric you used. \n",
    "2. Write concluding remarks.\n",
    "3. Discuss other ideas that you did not try but could potentially improve the performance/interpretability . "
   ]
  },
  {
   "cell_type": "markdown",
   "metadata": {},
   "source": [
    "<br><br><br><br>"
   ]
  },
  {
   "cell_type": "markdown",
   "metadata": {},
   "source": [
    "## Submission instructions \n",
    "\n",
    "**PLEASE READ:** When you are ready to submit your assignment do the following:\n",
    "\n",
    "1. Run all cells in your notebook to make sure there are no errors by doing `Kernel -> Restart Kernel and Clear All Outputs` and then `Run -> Run All Cells`. \n",
    "2. Notebooks with cell execution numbers out of order or not starting from “1” will have marks deducted. Notebooks without the output displayed may not be graded at all (because we need to see the output in order to grade your work).\n",
    "3. Upload the assignment using Gradescope's drag and drop tool. Check out this [Gradescope Student Guide](https://lthub.ubc.ca/guides/gradescope-student-guide/) if you need help with Gradescope submission. "
   ]
  }
 ],
 "metadata": {
  "kernelspec": {
   "display_name": "Python [conda env:cpsc330]",
   "language": "python",
   "name": "conda-env-cpsc330-py"
  },
  "language_info": {
   "codemirror_mode": {
    "name": "ipython",
    "version": 3
   },
   "file_extension": ".py",
   "mimetype": "text/x-python",
   "name": "python",
   "nbconvert_exporter": "python",
   "pygments_lexer": "ipython3",
   "version": "3.10.8"
  }
 },
 "nbformat": 4,
 "nbformat_minor": 4
}
