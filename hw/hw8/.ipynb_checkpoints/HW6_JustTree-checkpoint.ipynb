{
 "cells": [
  {
   "cell_type": "code",
   "execution_count": null,
   "id": "498ae5b1-b5a1-41f4-8543-0580072b2d15",
   "metadata": {},
   "outputs": [],
   "source": [
    "# read in the CSV files as a dataframes\n",
    "data = pd.read_csv(\"train__dataset.csv\")\n",
    "\n",
    "train, test = train_test_split(data, test_size=0.2, random_state=242)"
   ]
  }
 ],
 "metadata": {
  "kernelspec": {
   "display_name": "Python [conda env:cpsc330]",
   "language": "python",
   "name": "conda-env-cpsc330-py"
  },
  "language_info": {
   "codemirror_mode": {
    "name": "ipython",
    "version": 3
   },
   "file_extension": ".py",
   "mimetype": "text/x-python",
   "name": "python",
   "nbconvert_exporter": "python",
   "pygments_lexer": "ipython3",
   "version": "3.10.8"
  }
 },
 "nbformat": 4,
 "nbformat_minor": 5
}
